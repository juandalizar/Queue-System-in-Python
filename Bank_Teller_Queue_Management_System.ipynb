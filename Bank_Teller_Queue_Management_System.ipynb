{
  "nbformat": 4,
  "nbformat_minor": 0,
  "metadata": {
    "colab": {
      "name": "Bank Teller Queue Management System.ipynb",
      "provenance": [],
      "collapsed_sections": []
    },
    "kernelspec": {
      "name": "python3",
      "display_name": "Python 3"
    },
    "language_info": {
      "name": "python"
    }
  },
  "cells": [
    {
      "cell_type": "markdown",
      "metadata": {
        "id": "E-AaaNY21DWL"
      },
      "source": [
        "#Bank Teller Queue Management System"
      ]
    },
    {
      "cell_type": "markdown",
      "metadata": {
        "id": "8_58gfcH1Uh8"
      },
      "source": [
        "Our user from banking company given us the job to develop a program to manage the customers queue in a Bank. The management want you to create a system that ables to divides the right amount of queue length for each bank teller, so that there is no one teller that get a longer queue than other tellers.\n",
        "\n",
        "However, not like the usual Bank Teller Queue Management System you found at your local bank where the system only calls the queue number, the management want the program to also be able to calls the customer's name.\n",
        "\n",
        "Assume that there are 5 tellers available at the Bank: Angel, Mellysa, David, Thom, and Monica.\n",
        "\n",
        "our user also wanted to know names of the first and the last \n",
        "customer from the program which we develop\n",
        "\n"
      ]
    },
    {
      "cell_type": "code",
      "metadata": {
        "id": "6PNx7wCS4u3x"
      },
      "source": [
        "import numpy as np"
      ],
      "execution_count": null,
      "outputs": []
    },
    {
      "cell_type": "code",
      "metadata": {
        "id": "y3J8kDj509oO"
      },
      "source": [
        "# teller name\n",
        "queue_dict = {'Angel':[],\n",
        "              'Mellysa':[],\n",
        "              'David':[],\n",
        "              'Thom':[],\n",
        "              'Monica':[]\n",
        "              }\n"
      ],
      "execution_count": null,
      "outputs": []
    },
    {
      "cell_type": "code",
      "metadata": {
        "colab": {
          "base_uri": "https://localhost:8080/"
        },
        "id": "lo70iL_y3H7C",
        "outputId": "e6e0f257-cba0-456a-82d7-3f896fe55c93"
      },
      "source": [
        "#customer queue\n",
        "customer_name_list = []\n",
        "queue_no = 0\n",
        "while True:\n",
        "    queue_no += 1\n",
        "\n",
        "#print Queue Number and input queue number\n",
        "    print(f\"Queue No {len(customer_name_list)+1}\")\n",
        "    customer_name = input(\"Enter Customer Name: \")\n",
        "    if customer_name == '':\n",
        "        break\n",
        "\n",
        "#Find the teller that has lowest number of queue\n",
        "    lowest_queue = np.inf\n",
        "    for teller_name, customers_queue in queue_dict.items():\n",
        "        if len(customers_queue)<lowest_queue:\n",
        "            lowest_queue = len(customers_queue)\n",
        "            chosen_teller = teller_name\n",
        "\n",
        "# Get the customer on the queue of the chosen teller\n",
        "    queue_dict[chosen_teller].append(customer_name)\n",
        "\n",
        "# List to store customer name and get the order of the customer\n",
        "    customer_name_list.append(customer_name)\n",
        "\n",
        "\n",
        "\n",
        "# print customer which go to the teller name\n",
        "    print(f\"{customer_name}, please go the teller {chosen_teller}\")\n",
        "    print()"
      ],
      "execution_count": null,
      "outputs": [
        {
          "output_type": "stream",
          "text": [
            "Queue No 1\n",
            "Enter Customer Name: Juanda\n",
            "Juanda, please go the teller Thom\n",
            "\n",
            "Queue No 2\n",
            "Enter Customer Name: Endang\n",
            "Endang, please go the teller Monica\n",
            "\n",
            "Queue No 3\n",
            "Enter Customer Name: Bunga\n",
            "Bunga, please go the teller Angel\n",
            "\n",
            "Queue No 4\n",
            "Enter Customer Name: Maya\n",
            "Maya, please go the teller Mellysa\n",
            "\n",
            "Queue No 5\n",
            "Enter Customer Name: Nazwa\n",
            "Nazwa, please go the teller David\n",
            "\n",
            "Queue No 6\n",
            "Enter Customer Name: \n"
          ],
          "name": "stdout"
        }
      ]
    },
    {
      "cell_type": "code",
      "metadata": {
        "colab": {
          "base_uri": "https://localhost:8080/"
        },
        "id": "ZAbz7wIw4-qR",
        "outputId": "6973e0e4-ca28-412a-b207-48bb8f5ca62f"
      },
      "source": [
        "#print Customer had been queued\n",
        "print(f\"The List customer had been queued in this day : {customer_name_list}\")"
      ],
      "execution_count": null,
      "outputs": [
        {
          "output_type": "stream",
          "text": [
            "The List customer had been queued in this day : ['Juanda', 'Endang', 'Bunga', 'Maya', 'Nazwa']\n"
          ],
          "name": "stdout"
        }
      ]
    },
    {
      "cell_type": "code",
      "metadata": {
        "colab": {
          "base_uri": "https://localhost:8080/"
        },
        "id": "4rGuDTQU5VcA",
        "outputId": "386ef6bf-562f-41fd-eac2-b87d8f716185"
      },
      "source": [
        "#get to Know the first customer\n",
        "print(f\"The First Customers today is {customer_name_list[0]}\")\n",
        "\n",
        "#atau bisa juga menggunakan\n",
        "print(f\"The first customer in this day is {customer_name_list[0]}\")"
      ],
      "execution_count": null,
      "outputs": [
        {
          "output_type": "stream",
          "text": [
            "The First Customers today is Juanda\n"
          ],
          "name": "stdout"
        }
      ]
    },
    {
      "cell_type": "code",
      "metadata": {
        "colab": {
          "base_uri": "https://localhost:8080/"
        },
        "id": "YYRPItnI5_bf",
        "outputId": "6311cec8-31bc-40be-a79b-0b219c416dd5"
      },
      "source": [
        "#get to know the last customer\n",
        "#print(f\"The Last Customers today is {customer_name_list[-1]}\")\n",
        "\n",
        "#atau bisa juga menggunakan\n",
        "print(f\"The last customer in this day is {customer_name_list[-1]}\")"
      ],
      "execution_count": null,
      "outputs": [
        {
          "output_type": "stream",
          "text": [
            "The last customer in this day is Nazwa\n"
          ],
          "name": "stdout"
        }
      ]
    }
  ]
}